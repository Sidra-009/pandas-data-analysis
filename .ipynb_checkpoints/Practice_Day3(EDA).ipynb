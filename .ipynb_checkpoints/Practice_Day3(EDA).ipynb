{
 "cells": [
  {
   "cell_type": "code",
   "execution_count": 1,
   "id": "4d47fc92-b2fe-4052-a93d-12230082d92a",
   "metadata": {},
   "outputs": [],
   "source": [
    "import pandas as pd"
   ]
  },
  {
   "cell_type": "code",
   "execution_count": 2,
   "id": "6a8ae654-8495-43d0-8023-aa8358d07cfb",
   "metadata": {},
   "outputs": [],
   "source": [
    "data=pd.read_csv('DataScience_salaries_2024.csv')"
   ]
  },
  {
   "cell_type": "code",
   "execution_count": 3,
   "id": "4ca6c7be-af8c-4cce-b5cd-7678e55a28bd",
   "metadata": {},
   "outputs": [],
   "source": [
    "#for top 5 jobs"
   ]
  },
  {
   "cell_type": "code",
   "execution_count": 14,
   "id": "94d8762f-ac22-4b32-b5aa-da33fbced42d",
   "metadata": {},
   "outputs": [],
   "source": [
    "jobs=data.groupby('job_title')"
   ]
  },
  {
   "cell_type": "code",
   "execution_count": 15,
   "id": "7162d2cc-f185-4620-b1ee-2470444dc803",
   "metadata": {},
   "outputs": [
    {
     "data": {
      "text/html": [
       "<div>\n",
       "<style scoped>\n",
       "    .dataframe tbody tr th:only-of-type {\n",
       "        vertical-align: middle;\n",
       "    }\n",
       "\n",
       "    .dataframe tbody tr th {\n",
       "        vertical-align: top;\n",
       "    }\n",
       "\n",
       "    .dataframe thead th {\n",
       "        text-align: right;\n",
       "    }\n",
       "</style>\n",
       "<table border=\"1\" class=\"dataframe\">\n",
       "  <thead>\n",
       "    <tr style=\"text-align: right;\">\n",
       "      <th></th>\n",
       "      <th>work_year</th>\n",
       "      <th>experience_level</th>\n",
       "      <th>employment_type</th>\n",
       "      <th>job_title</th>\n",
       "      <th>salary</th>\n",
       "      <th>salary_currency</th>\n",
       "      <th>salary_in_usd</th>\n",
       "      <th>employee_residence</th>\n",
       "      <th>remote_ratio</th>\n",
       "      <th>company_location</th>\n",
       "      <th>company_size</th>\n",
       "    </tr>\n",
       "  </thead>\n",
       "  <tbody>\n",
       "    <tr>\n",
       "      <th>0</th>\n",
       "      <td>2021</td>\n",
       "      <td>MI</td>\n",
       "      <td>FT</td>\n",
       "      <td>Data Scientist</td>\n",
       "      <td>30400000</td>\n",
       "      <td>CLP</td>\n",
       "      <td>40038</td>\n",
       "      <td>CL</td>\n",
       "      <td>100</td>\n",
       "      <td>CL</td>\n",
       "      <td>L</td>\n",
       "    </tr>\n",
       "    <tr>\n",
       "      <th>2</th>\n",
       "      <td>2020</td>\n",
       "      <td>MI</td>\n",
       "      <td>FT</td>\n",
       "      <td>Data Scientist</td>\n",
       "      <td>11000000</td>\n",
       "      <td>HUF</td>\n",
       "      <td>35735</td>\n",
       "      <td>HU</td>\n",
       "      <td>50</td>\n",
       "      <td>HU</td>\n",
       "      <td>L</td>\n",
       "    </tr>\n",
       "    <tr>\n",
       "      <th>7</th>\n",
       "      <td>2022</td>\n",
       "      <td>EN</td>\n",
       "      <td>FT</td>\n",
       "      <td>Data Scientist</td>\n",
       "      <td>6600000</td>\n",
       "      <td>HUF</td>\n",
       "      <td>17684</td>\n",
       "      <td>HU</td>\n",
       "      <td>100</td>\n",
       "      <td>HU</td>\n",
       "      <td>M</td>\n",
       "    </tr>\n",
       "    <tr>\n",
       "      <th>15</th>\n",
       "      <td>2022</td>\n",
       "      <td>MI</td>\n",
       "      <td>FT</td>\n",
       "      <td>Data Scientist</td>\n",
       "      <td>4200000</td>\n",
       "      <td>INR</td>\n",
       "      <td>53416</td>\n",
       "      <td>IN</td>\n",
       "      <td>100</td>\n",
       "      <td>ID</td>\n",
       "      <td>L</td>\n",
       "    </tr>\n",
       "    <tr>\n",
       "      <th>17</th>\n",
       "      <td>2021</td>\n",
       "      <td>SE</td>\n",
       "      <td>FT</td>\n",
       "      <td>Data Scientist</td>\n",
       "      <td>4000000</td>\n",
       "      <td>INR</td>\n",
       "      <td>54094</td>\n",
       "      <td>IN</td>\n",
       "      <td>100</td>\n",
       "      <td>IN</td>\n",
       "      <td>L</td>\n",
       "    </tr>\n",
       "    <tr>\n",
       "      <th>...</th>\n",
       "      <td>...</td>\n",
       "      <td>...</td>\n",
       "      <td>...</td>\n",
       "      <td>...</td>\n",
       "      <td>...</td>\n",
       "      <td>...</td>\n",
       "      <td>...</td>\n",
       "      <td>...</td>\n",
       "      <td>...</td>\n",
       "      <td>...</td>\n",
       "      <td>...</td>\n",
       "    </tr>\n",
       "    <tr>\n",
       "      <th>14784</th>\n",
       "      <td>2023</td>\n",
       "      <td>EN</td>\n",
       "      <td>FT</td>\n",
       "      <td>Data Scientist</td>\n",
       "      <td>24000</td>\n",
       "      <td>USD</td>\n",
       "      <td>24000</td>\n",
       "      <td>US</td>\n",
       "      <td>100</td>\n",
       "      <td>US</td>\n",
       "      <td>M</td>\n",
       "    </tr>\n",
       "    <tr>\n",
       "      <th>14804</th>\n",
       "      <td>2021</td>\n",
       "      <td>MI</td>\n",
       "      <td>FT</td>\n",
       "      <td>Data Scientist</td>\n",
       "      <td>21600</td>\n",
       "      <td>EUR</td>\n",
       "      <td>25532</td>\n",
       "      <td>RS</td>\n",
       "      <td>100</td>\n",
       "      <td>DE</td>\n",
       "      <td>S</td>\n",
       "    </tr>\n",
       "    <tr>\n",
       "      <th>14822</th>\n",
       "      <td>2020</td>\n",
       "      <td>EN</td>\n",
       "      <td>PT</td>\n",
       "      <td>Data Scientist</td>\n",
       "      <td>19000</td>\n",
       "      <td>EUR</td>\n",
       "      <td>21669</td>\n",
       "      <td>IT</td>\n",
       "      <td>50</td>\n",
       "      <td>IT</td>\n",
       "      <td>S</td>\n",
       "    </tr>\n",
       "    <tr>\n",
       "      <th>14824</th>\n",
       "      <td>2023</td>\n",
       "      <td>EN</td>\n",
       "      <td>FT</td>\n",
       "      <td>Data Scientist</td>\n",
       "      <td>18000</td>\n",
       "      <td>EUR</td>\n",
       "      <td>19434</td>\n",
       "      <td>GR</td>\n",
       "      <td>100</td>\n",
       "      <td>GR</td>\n",
       "      <td>L</td>\n",
       "    </tr>\n",
       "    <tr>\n",
       "      <th>14830</th>\n",
       "      <td>2023</td>\n",
       "      <td>EN</td>\n",
       "      <td>FT</td>\n",
       "      <td>Data Scientist</td>\n",
       "      <td>16000</td>\n",
       "      <td>USD</td>\n",
       "      <td>16000</td>\n",
       "      <td>EC</td>\n",
       "      <td>100</td>\n",
       "      <td>EC</td>\n",
       "      <td>L</td>\n",
       "    </tr>\n",
       "  </tbody>\n",
       "</table>\n",
       "<p>3015 rows × 11 columns</p>\n",
       "</div>"
      ],
      "text/plain": [
       "       work_year experience_level employment_type       job_title    salary  \\\n",
       "0           2021               MI              FT  Data Scientist  30400000   \n",
       "2           2020               MI              FT  Data Scientist  11000000   \n",
       "7           2022               EN              FT  Data Scientist   6600000   \n",
       "15          2022               MI              FT  Data Scientist   4200000   \n",
       "17          2021               SE              FT  Data Scientist   4000000   \n",
       "...          ...              ...             ...             ...       ...   \n",
       "14784       2023               EN              FT  Data Scientist     24000   \n",
       "14804       2021               MI              FT  Data Scientist     21600   \n",
       "14822       2020               EN              PT  Data Scientist     19000   \n",
       "14824       2023               EN              FT  Data Scientist     18000   \n",
       "14830       2023               EN              FT  Data Scientist     16000   \n",
       "\n",
       "      salary_currency  salary_in_usd employee_residence  remote_ratio  \\\n",
       "0                 CLP          40038                 CL           100   \n",
       "2                 HUF          35735                 HU            50   \n",
       "7                 HUF          17684                 HU           100   \n",
       "15                INR          53416                 IN           100   \n",
       "17                INR          54094                 IN           100   \n",
       "...               ...            ...                ...           ...   \n",
       "14784             USD          24000                 US           100   \n",
       "14804             EUR          25532                 RS           100   \n",
       "14822             EUR          21669                 IT            50   \n",
       "14824             EUR          19434                 GR           100   \n",
       "14830             USD          16000                 EC           100   \n",
       "\n",
       "      company_location company_size  \n",
       "0                   CL            L  \n",
       "2                   HU            L  \n",
       "7                   HU            M  \n",
       "15                  ID            L  \n",
       "17                  IN            L  \n",
       "...                ...          ...  \n",
       "14784               US            M  \n",
       "14804               DE            S  \n",
       "14822               IT            S  \n",
       "14824               GR            L  \n",
       "14830               EC            L  \n",
       "\n",
       "[3015 rows x 11 columns]"
      ]
     },
     "execution_count": 15,
     "metadata": {},
     "output_type": "execute_result"
    }
   ],
   "source": [
    "jobs.get_group('Data Scientist')"
   ]
  },
  {
   "cell_type": "code",
   "execution_count": 16,
   "id": "739cfaad-0c62-46b5-880a-fae36fa32553",
   "metadata": {},
   "outputs": [
    {
     "data": {
      "text/plain": [
       "(3015, 11)"
      ]
     },
     "execution_count": 16,
     "metadata": {},
     "output_type": "execute_result"
    }
   ],
   "source": [
    "jobs.get_group('Data Scientist').shape"
   ]
  },
  {
   "cell_type": "code",
   "execution_count": 19,
   "id": "a5c483d1-7b2b-4714-9bbc-bebcb77d2f8f",
   "metadata": {},
   "outputs": [
    {
     "data": {
      "text/plain": [
       "job_title\n",
       "Data Engineer                 107750\n",
       "Data Scientist                103450\n",
       "Data Analyst                   79900\n",
       "Machine Learning Engineer      42700\n",
       "Analytics Engineer             18550\n",
       "                               ...  \n",
       "Data Science Analyst               0\n",
       "Applied Research Scientist         0\n",
       "Big Data Developer                 0\n",
       "Data Visualization Analyst         0\n",
       "Data Integration Developer         0\n",
       "Name: remote_ratio, Length: 153, dtype: int64"
      ]
     },
     "execution_count": 19,
     "metadata": {},
     "output_type": "execute_result"
    }
   ],
   "source": [
    "jobs['remote_ratio'].sum().sort_values(ascending=False)"
   ]
  },
  {
   "cell_type": "code",
   "execution_count": 20,
   "id": "10fbd0ee-c9c1-4489-b3d7-75325edea823",
   "metadata": {},
   "outputs": [
    {
     "data": {
      "text/plain": [
       "job_title\n",
       "Data Engineer                107750\n",
       "Data Scientist               103450\n",
       "Data Analyst                  79900\n",
       "Machine Learning Engineer     42700\n",
       "Analytics Engineer            18550\n",
       "Name: remote_ratio, dtype: int64"
      ]
     },
     "execution_count": 20,
     "metadata": {},
     "output_type": "execute_result"
    }
   ],
   "source": [
    "jobs['remote_ratio'].sum().sort_values(ascending=False).head(5)"
   ]
  },
  {
   "cell_type": "code",
   "execution_count": 21,
   "id": "f62af64d-5011-446b-8097-151c33bc860d",
   "metadata": {},
   "outputs": [
    {
     "data": {
      "text/plain": [
       "job_title\n",
       "Data Engineer                     107750\n",
       "Data Scientist                    103450\n",
       "Data Analyst                       79900\n",
       "Machine Learning Engineer          42700\n",
       "Analytics Engineer                 18550\n",
       "Data Architect                     16700\n",
       "Applied Scientist                  10550\n",
       "Research Scientist                  8500\n",
       "ML Engineer                         5800\n",
       "Business Intelligence Engineer      5200\n",
       "Name: remote_ratio, dtype: int64"
      ]
     },
     "execution_count": 21,
     "metadata": {},
     "output_type": "execute_result"
    }
   ],
   "source": [
    "jobs['remote_ratio'].sum().sort_values(ascending=False).head(10)"
   ]
  },
  {
   "cell_type": "code",
   "execution_count": 22,
   "id": "3c495ae9-a82e-4d64-abd7-5725197bfb93",
   "metadata": {},
   "outputs": [],
   "source": [
    "#the high paying remote job"
   ]
  },
  {
   "cell_type": "code",
   "execution_count": 43,
   "id": "8b345dc9-8d0b-4f8d-a326-f1cb1481ac16",
   "metadata": {},
   "outputs": [],
   "source": [
    "mask=data['remote_ratio']==50\n",
    "remote_ratio=data[mask]"
   ]
  },
  {
   "cell_type": "code",
   "execution_count": 45,
   "id": "bc7d0697-989e-4397-b1aa-819eb6661aaf",
   "metadata": {},
   "outputs": [
    {
     "data": {
      "text/html": [
       "<div>\n",
       "<style scoped>\n",
       "    .dataframe tbody tr th:only-of-type {\n",
       "        vertical-align: middle;\n",
       "    }\n",
       "\n",
       "    .dataframe tbody tr th {\n",
       "        vertical-align: top;\n",
       "    }\n",
       "\n",
       "    .dataframe thead th {\n",
       "        text-align: right;\n",
       "    }\n",
       "</style>\n",
       "<table border=\"1\" class=\"dataframe\">\n",
       "  <thead>\n",
       "    <tr style=\"text-align: right;\">\n",
       "      <th></th>\n",
       "      <th>work_year</th>\n",
       "      <th>experience_level</th>\n",
       "      <th>employment_type</th>\n",
       "      <th>job_title</th>\n",
       "      <th>salary</th>\n",
       "      <th>salary_currency</th>\n",
       "      <th>salary_in_usd</th>\n",
       "      <th>employee_residence</th>\n",
       "      <th>remote_ratio</th>\n",
       "      <th>company_location</th>\n",
       "      <th>company_size</th>\n",
       "    </tr>\n",
       "  </thead>\n",
       "  <tbody>\n",
       "    <tr>\n",
       "      <th>1</th>\n",
       "      <td>2021</td>\n",
       "      <td>MI</td>\n",
       "      <td>FT</td>\n",
       "      <td>BI Data Analyst</td>\n",
       "      <td>11000000</td>\n",
       "      <td>HUF</td>\n",
       "      <td>36259</td>\n",
       "      <td>HU</td>\n",
       "      <td>50</td>\n",
       "      <td>US</td>\n",
       "      <td>L</td>\n",
       "    </tr>\n",
       "    <tr>\n",
       "      <th>2</th>\n",
       "      <td>2020</td>\n",
       "      <td>MI</td>\n",
       "      <td>FT</td>\n",
       "      <td>Data Scientist</td>\n",
       "      <td>11000000</td>\n",
       "      <td>HUF</td>\n",
       "      <td>35735</td>\n",
       "      <td>HU</td>\n",
       "      <td>50</td>\n",
       "      <td>HU</td>\n",
       "      <td>L</td>\n",
       "    </tr>\n",
       "    <tr>\n",
       "      <th>3</th>\n",
       "      <td>2021</td>\n",
       "      <td>MI</td>\n",
       "      <td>FT</td>\n",
       "      <td>ML Engineer</td>\n",
       "      <td>8500000</td>\n",
       "      <td>JPY</td>\n",
       "      <td>77364</td>\n",
       "      <td>JP</td>\n",
       "      <td>50</td>\n",
       "      <td>JP</td>\n",
       "      <td>S</td>\n",
       "    </tr>\n",
       "    <tr>\n",
       "      <th>4</th>\n",
       "      <td>2022</td>\n",
       "      <td>SE</td>\n",
       "      <td>FT</td>\n",
       "      <td>Lead Machine Learning Engineer</td>\n",
       "      <td>7500000</td>\n",
       "      <td>INR</td>\n",
       "      <td>95386</td>\n",
       "      <td>IN</td>\n",
       "      <td>50</td>\n",
       "      <td>IN</td>\n",
       "      <td>L</td>\n",
       "    </tr>\n",
       "    <tr>\n",
       "      <th>5</th>\n",
       "      <td>2021</td>\n",
       "      <td>MI</td>\n",
       "      <td>FT</td>\n",
       "      <td>ML Engineer</td>\n",
       "      <td>7000000</td>\n",
       "      <td>JPY</td>\n",
       "      <td>63711</td>\n",
       "      <td>JP</td>\n",
       "      <td>50</td>\n",
       "      <td>JP</td>\n",
       "      <td>S</td>\n",
       "    </tr>\n",
       "    <tr>\n",
       "      <th>...</th>\n",
       "      <td>...</td>\n",
       "      <td>...</td>\n",
       "      <td>...</td>\n",
       "      <td>...</td>\n",
       "      <td>...</td>\n",
       "      <td>...</td>\n",
       "      <td>...</td>\n",
       "      <td>...</td>\n",
       "      <td>...</td>\n",
       "      <td>...</td>\n",
       "      <td>...</td>\n",
       "    </tr>\n",
       "    <tr>\n",
       "      <th>14822</th>\n",
       "      <td>2020</td>\n",
       "      <td>EN</td>\n",
       "      <td>PT</td>\n",
       "      <td>Data Scientist</td>\n",
       "      <td>19000</td>\n",
       "      <td>EUR</td>\n",
       "      <td>21669</td>\n",
       "      <td>IT</td>\n",
       "      <td>50</td>\n",
       "      <td>IT</td>\n",
       "      <td>S</td>\n",
       "    </tr>\n",
       "    <tr>\n",
       "      <th>14825</th>\n",
       "      <td>2023</td>\n",
       "      <td>EN</td>\n",
       "      <td>FT</td>\n",
       "      <td>Data Engineer</td>\n",
       "      <td>18000</td>\n",
       "      <td>USD</td>\n",
       "      <td>18000</td>\n",
       "      <td>IN</td>\n",
       "      <td>50</td>\n",
       "      <td>IN</td>\n",
       "      <td>M</td>\n",
       "    </tr>\n",
       "    <tr>\n",
       "      <th>14827</th>\n",
       "      <td>2024</td>\n",
       "      <td>EN</td>\n",
       "      <td>FT</td>\n",
       "      <td>Big Data Engineer</td>\n",
       "      <td>17600</td>\n",
       "      <td>USD</td>\n",
       "      <td>17600</td>\n",
       "      <td>MX</td>\n",
       "      <td>50</td>\n",
       "      <td>MX</td>\n",
       "      <td>L</td>\n",
       "    </tr>\n",
       "    <tr>\n",
       "      <th>14828</th>\n",
       "      <td>2024</td>\n",
       "      <td>EN</td>\n",
       "      <td>FT</td>\n",
       "      <td>Data Engineer</td>\n",
       "      <td>17598</td>\n",
       "      <td>USD</td>\n",
       "      <td>17598</td>\n",
       "      <td>MX</td>\n",
       "      <td>50</td>\n",
       "      <td>MX</td>\n",
       "      <td>L</td>\n",
       "    </tr>\n",
       "    <tr>\n",
       "      <th>14832</th>\n",
       "      <td>2024</td>\n",
       "      <td>EN</td>\n",
       "      <td>PT</td>\n",
       "      <td>Data Science</td>\n",
       "      <td>15000</td>\n",
       "      <td>EUR</td>\n",
       "      <td>16666</td>\n",
       "      <td>DE</td>\n",
       "      <td>50</td>\n",
       "      <td>DE</td>\n",
       "      <td>M</td>\n",
       "    </tr>\n",
       "  </tbody>\n",
       "</table>\n",
       "<p>248 rows × 11 columns</p>\n",
       "</div>"
      ],
      "text/plain": [
       "       work_year experience_level employment_type  \\\n",
       "1           2021               MI              FT   \n",
       "2           2020               MI              FT   \n",
       "3           2021               MI              FT   \n",
       "4           2022               SE              FT   \n",
       "5           2021               MI              FT   \n",
       "...          ...              ...             ...   \n",
       "14822       2020               EN              PT   \n",
       "14825       2023               EN              FT   \n",
       "14827       2024               EN              FT   \n",
       "14828       2024               EN              FT   \n",
       "14832       2024               EN              PT   \n",
       "\n",
       "                            job_title    salary salary_currency  \\\n",
       "1                     BI Data Analyst  11000000             HUF   \n",
       "2                      Data Scientist  11000000             HUF   \n",
       "3                         ML Engineer   8500000             JPY   \n",
       "4      Lead Machine Learning Engineer   7500000             INR   \n",
       "5                         ML Engineer   7000000             JPY   \n",
       "...                               ...       ...             ...   \n",
       "14822                  Data Scientist     19000             EUR   \n",
       "14825                   Data Engineer     18000             USD   \n",
       "14827               Big Data Engineer     17600             USD   \n",
       "14828                   Data Engineer     17598             USD   \n",
       "14832                    Data Science     15000             EUR   \n",
       "\n",
       "       salary_in_usd employee_residence  remote_ratio company_location  \\\n",
       "1              36259                 HU            50               US   \n",
       "2              35735                 HU            50               HU   \n",
       "3              77364                 JP            50               JP   \n",
       "4              95386                 IN            50               IN   \n",
       "5              63711                 JP            50               JP   \n",
       "...              ...                ...           ...              ...   \n",
       "14822          21669                 IT            50               IT   \n",
       "14825          18000                 IN            50               IN   \n",
       "14827          17600                 MX            50               MX   \n",
       "14828          17598                 MX            50               MX   \n",
       "14832          16666                 DE            50               DE   \n",
       "\n",
       "      company_size  \n",
       "1                L  \n",
       "2                L  \n",
       "3                S  \n",
       "4                L  \n",
       "5                S  \n",
       "...            ...  \n",
       "14822            S  \n",
       "14825            M  \n",
       "14827            L  \n",
       "14828            L  \n",
       "14832            M  \n",
       "\n",
       "[248 rows x 11 columns]"
      ]
     },
     "execution_count": 45,
     "metadata": {},
     "output_type": "execute_result"
    }
   ],
   "source": [
    "remote_ratio"
   ]
  },
  {
   "cell_type": "code",
   "execution_count": 46,
   "id": "b521bc2e-a2dd-46e8-9aa5-a17e70424935",
   "metadata": {},
   "outputs": [
    {
     "data": {
      "text/plain": [
       "248"
      ]
     },
     "execution_count": 46,
     "metadata": {},
     "output_type": "execute_result"
    }
   ],
   "source": [
    "remote_ratio.shape[0]"
   ]
  },
  {
   "cell_type": "code",
   "execution_count": 48,
   "id": "a91e54c6-e3aa-411f-a87a-61a285018fd6",
   "metadata": {},
   "outputs": [
    {
     "data": {
      "text/plain": [
       "job_title\n",
       "AI Developer                        4\n",
       "AI Engineer                         2\n",
       "AI Product Manager                  1\n",
       "AI Research Scientist               1\n",
       "AI Scientist                        4\n",
       "                                   ..\n",
       "Research Scientist                 12\n",
       "Software Data Engineer              1\n",
       "Staff Data Analyst                  1\n",
       "Staff Data Scientist                1\n",
       "Staff Machine Learning Engineer     1\n",
       "Name: remote_ratio, Length: 71, dtype: int64"
      ]
     },
     "execution_count": 48,
     "metadata": {},
     "output_type": "execute_result"
    }
   ],
   "source": [
    "remote_ratio.groupby('job_title')['remote_ratio'].count()"
   ]
  },
  {
   "cell_type": "code",
   "execution_count": 51,
   "id": "212c4541-bef4-4115-8b6a-56fafbb8d167",
   "metadata": {},
   "outputs": [
    {
     "data": {
      "text/plain": [
       "job_title\n",
       "Data Engineer                3162\n",
       "Data Scientist               3015\n",
       "Data Analyst                 2189\n",
       "Machine Learning Engineer    1542\n",
       "Research Scientist            475\n",
       "Name: remote_ratio, dtype: int64"
      ]
     },
     "execution_count": 51,
     "metadata": {},
     "output_type": "execute_result"
    }
   ],
   "source": [
    "data.groupby('job_title')['remote_ratio'].count().sort_values(ascending=False).head(5)"
   ]
  },
  {
   "cell_type": "code",
   "execution_count": 52,
   "id": "2ce133eb-75d5-4bc5-9a01-fe1837eb24ef",
   "metadata": {},
   "outputs": [],
   "source": [
    "#to find out data scientist high paying loc"
   ]
  },
  {
   "cell_type": "code",
   "execution_count": 67,
   "id": "e4805dd6-bf51-4e53-8d57-ea7417da5f08",
   "metadata": {},
   "outputs": [],
   "source": [
    "ds=data[data['job_title']=='Data Scientist']"
   ]
  },
  {
   "cell_type": "code",
   "execution_count": 68,
   "id": "ad1816dd-87c5-4ca4-994f-dcc92721580d",
   "metadata": {},
   "outputs": [
    {
     "data": {
      "text/plain": [
       "remote_ratio\n",
       "0      309555047\n",
       "100    211989219\n",
       "50      21319140\n",
       "Name: salary, dtype: int64"
      ]
     },
     "execution_count": 68,
     "metadata": {},
     "output_type": "execute_result"
    }
   ],
   "source": [
    "ds.groupby('remote_ratio')['salary'].sum().sort_values(ascending=False).head(3)"
   ]
  },
  {
   "cell_type": "code",
   "execution_count": 75,
   "id": "638ef395-3156-4504-88d9-3976c21f04c4",
   "metadata": {},
   "outputs": [
    {
     "data": {
      "text/plain": [
       "remote_ratio\n",
       "0      76532035\n",
       "100    14361954\n",
       "50      1318899\n",
       "Name: salary, dtype: int64"
      ]
     },
     "execution_count": 75,
     "metadata": {},
     "output_type": "execute_result"
    }
   ],
   "source": [
    "def high_paying(job_title):\n",
    "    ds=data[data['job_title']==job_title]\n",
    "    return ds.groupby('remote_ratio')['salary'].sum().sort_values(ascending=False).head(3)\n",
    "high_paying(\"Research Scientist\")"
   ]
  },
  {
   "cell_type": "code",
   "execution_count": 76,
   "id": "bcdf7baf-d691-4d5c-919d-38c19b4c1f27",
   "metadata": {},
   "outputs": [],
   "source": [
    "#isin Functuion\n",
    "# fiind the most"
   ]
  },
  {
   "cell_type": "code",
   "execution_count": 141,
   "id": "a768b300-5d28-4526-ba5e-b838023b72f4",
   "metadata": {},
   "outputs": [
    {
     "data": {
      "text/html": [
       "<div>\n",
       "<style scoped>\n",
       "    .dataframe tbody tr th:only-of-type {\n",
       "        vertical-align: middle;\n",
       "    }\n",
       "\n",
       "    .dataframe tbody tr th {\n",
       "        vertical-align: top;\n",
       "    }\n",
       "\n",
       "    .dataframe thead th {\n",
       "        text-align: right;\n",
       "    }\n",
       "</style>\n",
       "<table border=\"1\" class=\"dataframe\">\n",
       "  <thead>\n",
       "    <tr style=\"text-align: right;\">\n",
       "      <th></th>\n",
       "      <th>work_year</th>\n",
       "      <th>experience_level</th>\n",
       "      <th>employment_type</th>\n",
       "      <th>job_title</th>\n",
       "      <th>salary</th>\n",
       "      <th>salary_currency</th>\n",
       "      <th>salary_in_usd</th>\n",
       "      <th>employee_residence</th>\n",
       "      <th>remote_ratio</th>\n",
       "      <th>company_location</th>\n",
       "      <th>company_size</th>\n",
       "    </tr>\n",
       "  </thead>\n",
       "  <tbody>\n",
       "    <tr>\n",
       "      <th>0</th>\n",
       "      <td>2021</td>\n",
       "      <td>MI</td>\n",
       "      <td>FT</td>\n",
       "      <td>Data Scientist</td>\n",
       "      <td>30400000</td>\n",
       "      <td>CLP</td>\n",
       "      <td>40038</td>\n",
       "      <td>CL</td>\n",
       "      <td>100</td>\n",
       "      <td>CL</td>\n",
       "      <td>L</td>\n",
       "    </tr>\n",
       "    <tr>\n",
       "      <th>1</th>\n",
       "      <td>2021</td>\n",
       "      <td>MI</td>\n",
       "      <td>FT</td>\n",
       "      <td>BI Data Analyst</td>\n",
       "      <td>11000000</td>\n",
       "      <td>HUF</td>\n",
       "      <td>36259</td>\n",
       "      <td>HU</td>\n",
       "      <td>50</td>\n",
       "      <td>US</td>\n",
       "      <td>L</td>\n",
       "    </tr>\n",
       "    <tr>\n",
       "      <th>2</th>\n",
       "      <td>2020</td>\n",
       "      <td>MI</td>\n",
       "      <td>FT</td>\n",
       "      <td>Data Scientist</td>\n",
       "      <td>11000000</td>\n",
       "      <td>HUF</td>\n",
       "      <td>35735</td>\n",
       "      <td>HU</td>\n",
       "      <td>50</td>\n",
       "      <td>HU</td>\n",
       "      <td>L</td>\n",
       "    </tr>\n",
       "    <tr>\n",
       "      <th>3</th>\n",
       "      <td>2021</td>\n",
       "      <td>MI</td>\n",
       "      <td>FT</td>\n",
       "      <td>ML Engineer</td>\n",
       "      <td>8500000</td>\n",
       "      <td>JPY</td>\n",
       "      <td>77364</td>\n",
       "      <td>JP</td>\n",
       "      <td>50</td>\n",
       "      <td>JP</td>\n",
       "      <td>S</td>\n",
       "    </tr>\n",
       "    <tr>\n",
       "      <th>4</th>\n",
       "      <td>2022</td>\n",
       "      <td>SE</td>\n",
       "      <td>FT</td>\n",
       "      <td>Lead Machine Learning Engineer</td>\n",
       "      <td>7500000</td>\n",
       "      <td>INR</td>\n",
       "      <td>95386</td>\n",
       "      <td>IN</td>\n",
       "      <td>50</td>\n",
       "      <td>IN</td>\n",
       "      <td>L</td>\n",
       "    </tr>\n",
       "    <tr>\n",
       "      <th>...</th>\n",
       "      <td>...</td>\n",
       "      <td>...</td>\n",
       "      <td>...</td>\n",
       "      <td>...</td>\n",
       "      <td>...</td>\n",
       "      <td>...</td>\n",
       "      <td>...</td>\n",
       "      <td>...</td>\n",
       "      <td>...</td>\n",
       "      <td>...</td>\n",
       "      <td>...</td>\n",
       "    </tr>\n",
       "    <tr>\n",
       "      <th>14764</th>\n",
       "      <td>2023</td>\n",
       "      <td>EN</td>\n",
       "      <td>FT</td>\n",
       "      <td>Data Scientist</td>\n",
       "      <td>26800</td>\n",
       "      <td>GBP</td>\n",
       "      <td>32974</td>\n",
       "      <td>GB</td>\n",
       "      <td>0</td>\n",
       "      <td>GB</td>\n",
       "      <td>M</td>\n",
       "    </tr>\n",
       "    <tr>\n",
       "      <th>14765</th>\n",
       "      <td>2023</td>\n",
       "      <td>EN</td>\n",
       "      <td>FT</td>\n",
       "      <td>Data Analyst</td>\n",
       "      <td>26800</td>\n",
       "      <td>GBP</td>\n",
       "      <td>32974</td>\n",
       "      <td>GB</td>\n",
       "      <td>0</td>\n",
       "      <td>GB</td>\n",
       "      <td>M</td>\n",
       "    </tr>\n",
       "    <tr>\n",
       "      <th>14766</th>\n",
       "      <td>2023</td>\n",
       "      <td>EN</td>\n",
       "      <td>FT</td>\n",
       "      <td>Data Analyst</td>\n",
       "      <td>26800</td>\n",
       "      <td>GBP</td>\n",
       "      <td>32974</td>\n",
       "      <td>GB</td>\n",
       "      <td>0</td>\n",
       "      <td>GB</td>\n",
       "      <td>M</td>\n",
       "    </tr>\n",
       "    <tr>\n",
       "      <th>14771</th>\n",
       "      <td>2024</td>\n",
       "      <td>MI</td>\n",
       "      <td>FT</td>\n",
       "      <td>Data Manager</td>\n",
       "      <td>25742</td>\n",
       "      <td>GBP</td>\n",
       "      <td>32177</td>\n",
       "      <td>ZA</td>\n",
       "      <td>0</td>\n",
       "      <td>ZA</td>\n",
       "      <td>M</td>\n",
       "    </tr>\n",
       "    <tr>\n",
       "      <th>14775</th>\n",
       "      <td>2024</td>\n",
       "      <td>SE</td>\n",
       "      <td>FT</td>\n",
       "      <td>Data Scientist</td>\n",
       "      <td>25000</td>\n",
       "      <td>GBP</td>\n",
       "      <td>31250</td>\n",
       "      <td>GB</td>\n",
       "      <td>0</td>\n",
       "      <td>GB</td>\n",
       "      <td>M</td>\n",
       "    </tr>\n",
       "  </tbody>\n",
       "</table>\n",
       "<p>14707 rows × 11 columns</p>\n",
       "</div>"
      ],
      "text/plain": [
       "       work_year experience_level employment_type  \\\n",
       "0           2021               MI              FT   \n",
       "1           2021               MI              FT   \n",
       "2           2020               MI              FT   \n",
       "3           2021               MI              FT   \n",
       "4           2022               SE              FT   \n",
       "...          ...              ...             ...   \n",
       "14764       2023               EN              FT   \n",
       "14765       2023               EN              FT   \n",
       "14766       2023               EN              FT   \n",
       "14771       2024               MI              FT   \n",
       "14775       2024               SE              FT   \n",
       "\n",
       "                            job_title    salary salary_currency  \\\n",
       "0                      Data Scientist  30400000             CLP   \n",
       "1                     BI Data Analyst  11000000             HUF   \n",
       "2                      Data Scientist  11000000             HUF   \n",
       "3                         ML Engineer   8500000             JPY   \n",
       "4      Lead Machine Learning Engineer   7500000             INR   \n",
       "...                               ...       ...             ...   \n",
       "14764                  Data Scientist     26800             GBP   \n",
       "14765                    Data Analyst     26800             GBP   \n",
       "14766                    Data Analyst     26800             GBP   \n",
       "14771                    Data Manager     25742             GBP   \n",
       "14775                  Data Scientist     25000             GBP   \n",
       "\n",
       "       salary_in_usd employee_residence  remote_ratio company_location  \\\n",
       "0              40038                 CL           100               CL   \n",
       "1              36259                 HU            50               US   \n",
       "2              35735                 HU            50               HU   \n",
       "3              77364                 JP            50               JP   \n",
       "4              95386                 IN            50               IN   \n",
       "...              ...                ...           ...              ...   \n",
       "14764          32974                 GB             0               GB   \n",
       "14765          32974                 GB             0               GB   \n",
       "14766          32974                 GB             0               GB   \n",
       "14771          32177                 ZA             0               ZA   \n",
       "14775          31250                 GB             0               GB   \n",
       "\n",
       "      company_size  \n",
       "0                L  \n",
       "1                L  \n",
       "2                L  \n",
       "3                S  \n",
       "4                L  \n",
       "...            ...  \n",
       "14764            M  \n",
       "14765            M  \n",
       "14766            M  \n",
       "14771            M  \n",
       "14775            M  \n",
       "\n",
       "[14707 rows x 11 columns]"
      ]
     },
     "execution_count": 141,
     "metadata": {},
     "output_type": "execute_result"
    }
   ],
   "source": [
    "#data scientist who done remote jobs\n",
    "data[data['salary_in_usd']>30760\t]\n",
    "# data.groupby('job_title')['remote_ratio'].count()"
   ]
  },
  {
   "cell_type": "code",
   "execution_count": 168,
   "id": "1199cdbe-080c-435a-91d1-ff23f397c3bc",
   "metadata": {},
   "outputs": [
    {
     "data": {
      "text/plain": [
       "job_title\n",
       "AI Architect                        28\n",
       "AI Developer                        19\n",
       "AI Engineer                        105\n",
       "AI Product Manager                   3\n",
       "AI Programmer                        7\n",
       "                                  ... \n",
       "Sales Data Analyst                   1\n",
       "Software Data Engineer               3\n",
       "Staff Data Analyst                   3\n",
       "Staff Data Scientist                 2\n",
       "Staff Machine Learning Engineer      1\n",
       "Name: remote_ratio, Length: 153, dtype: int64"
      ]
     },
     "execution_count": 168,
     "metadata": {},
     "output_type": "execute_result"
    }
   ],
   "source": [
    "data.groupby('job_title')['remote_ratio'].count()"
   ]
  },
  {
   "cell_type": "code",
   "execution_count": 169,
   "id": "e3ae6316-d2f9-4de1-b82c-db4de6de0884",
   "metadata": {},
   "outputs": [
    {
     "data": {
      "text/plain": [
       "job_title\n",
       "AI Architect                       False\n",
       "AI Developer                       False\n",
       "AI Engineer                         True\n",
       "AI Product Manager                 False\n",
       "AI Programmer                      False\n",
       "                                   ...  \n",
       "Sales Data Analyst                 False\n",
       "Software Data Engineer             False\n",
       "Staff Data Analyst                 False\n",
       "Staff Data Scientist               False\n",
       "Staff Machine Learning Engineer    False\n",
       "Name: remote_ratio, Length: 153, dtype: bool"
      ]
     },
     "execution_count": 169,
     "metadata": {},
     "output_type": "execute_result"
    }
   ],
   "source": [
    "data.groupby('job_title')['remote_ratio'].count()>30"
   ]
  },
  {
   "cell_type": "code",
   "execution_count": 196,
   "id": "2c728da3-7ab7-4abb-8d27-647308b2683a",
   "metadata": {},
   "outputs": [],
   "source": [
    "roles=data.groupby('job_title')['remote_ratio'].count()"
   ]
  },
  {
   "cell_type": "code",
   "execution_count": 197,
   "id": "213bc15d-aafb-4980-bd33-09f559ee53bf",
   "metadata": {},
   "outputs": [
    {
     "data": {
      "text/plain": [
       "job_title\n",
       "AI Architect                        28\n",
       "AI Developer                        19\n",
       "AI Engineer                        105\n",
       "AI Product Manager                   3\n",
       "AI Programmer                        7\n",
       "                                  ... \n",
       "Sales Data Analyst                   1\n",
       "Software Data Engineer               3\n",
       "Staff Data Analyst                   3\n",
       "Staff Data Scientist                 2\n",
       "Staff Machine Learning Engineer      1\n",
       "Name: remote_ratio, Length: 153, dtype: int64"
      ]
     },
     "execution_count": 197,
     "metadata": {},
     "output_type": "execute_result"
    }
   ],
   "source": [
    "roles"
   ]
  },
  {
   "cell_type": "code",
   "execution_count": 199,
   "id": "09fc0446-e4ea-43ea-9943-2608b215a89f",
   "metadata": {},
   "outputs": [],
   "source": [
    "remote_jobs=data.groupby('job_title')['remote_ratio'].sum()"
   ]
  },
  {
   "cell_type": "code",
   "execution_count": 206,
   "id": "6d64bee4-05a3-4475-bccf-e3fd5f4f3e8d",
   "metadata": {},
   "outputs": [
    {
     "data": {
      "text/plain": [
       "job_title\n",
       "AI Architect                        800\n",
       "AI Developer                        800\n",
       "AI Engineer                        2500\n",
       "AI Product Manager                   50\n",
       "AI Programmer                       300\n",
       "                                   ... \n",
       "Sales Data Analyst                    0\n",
       "Software Data Engineer              250\n",
       "Staff Data Analyst                  150\n",
       "Staff Data Scientist                150\n",
       "Staff Machine Learning Engineer      50\n",
       "Name: remote_ratio, Length: 153, dtype: int64"
      ]
     },
     "execution_count": 206,
     "metadata": {},
     "output_type": "execute_result"
    }
   ],
   "source": [
    "remote_jobs"
   ]
  },
  {
   "cell_type": "code",
   "execution_count": 200,
   "id": "f35ec1ee-8f60-4157-ad07-49022dd3d365",
   "metadata": {},
   "outputs": [],
   "source": [
    "results=(remote_jobs/roles)*100"
   ]
  },
  {
   "cell_type": "code",
   "execution_count": 201,
   "id": "732bf699-9f6c-40b3-bc2a-8c6aa4fdc3bd",
   "metadata": {},
   "outputs": [
    {
     "data": {
      "text/plain": [
       "job_title\n",
       "AI Architect                       2857.142857\n",
       "AI Developer                       4210.526316\n",
       "AI Engineer                        2380.952381\n",
       "AI Product Manager                 1666.666667\n",
       "AI Programmer                      4285.714286\n",
       "                                      ...     \n",
       "Sales Data Analyst                    0.000000\n",
       "Software Data Engineer             8333.333333\n",
       "Staff Data Analyst                 5000.000000\n",
       "Staff Data Scientist               7500.000000\n",
       "Staff Machine Learning Engineer    5000.000000\n",
       "Name: remote_ratio, Length: 153, dtype: float64"
      ]
     },
     "execution_count": 201,
     "metadata": {},
     "output_type": "execute_result"
    }
   ],
   "source": [
    "results"
   ]
  },
  {
   "cell_type": "code",
   "execution_count": 202,
   "id": "5db2da57-5944-43f9-8636-1e6a6c84a095",
   "metadata": {},
   "outputs": [],
   "source": [
    "high_remote_jobs=results[results>50]"
   ]
  },
  {
   "cell_type": "code",
   "execution_count": 203,
   "id": "7fbe6bfe-1fc8-4f9f-bb17-53c641bfa01f",
   "metadata": {},
   "outputs": [
    {
     "data": {
      "text/plain": [
       "job_title\n",
       "AI Architect                       2857.142857\n",
       "AI Developer                       4210.526316\n",
       "AI Engineer                        2380.952381\n",
       "AI Product Manager                 1666.666667\n",
       "AI Programmer                      4285.714286\n",
       "                                      ...     \n",
       "Research Scientist                 1789.473684\n",
       "Software Data Engineer             8333.333333\n",
       "Staff Data Analyst                 5000.000000\n",
       "Staff Data Scientist               7500.000000\n",
       "Staff Machine Learning Engineer    5000.000000\n",
       "Name: remote_ratio, Length: 125, dtype: float64"
      ]
     },
     "execution_count": 203,
     "metadata": {},
     "output_type": "execute_result"
    }
   ],
   "source": [
    "high_remote_jobs"
   ]
  },
  {
   "cell_type": "code",
   "execution_count": 207,
   "id": "a47489dc-70c4-4dcb-aae8-ec70c6ee5f51",
   "metadata": {},
   "outputs": [
    {
     "data": {
      "text/plain": [
       "'---------------------------------------Completed by Sidra Saqlain----------------------------------------------'"
      ]
     },
     "execution_count": 207,
     "metadata": {},
     "output_type": "execute_result"
    }
   ],
   "source": [
    "\"---------------------------------------Completed by Sidra Saqlain----------------------------------------------\""
   ]
  },
  {
   "cell_type": "code",
   "execution_count": null,
   "id": "38113c89-a779-4df5-b212-99ee65a2d1a9",
   "metadata": {},
   "outputs": [],
   "source": []
  }
 ],
 "metadata": {
  "kernelspec": {
   "display_name": "Python 3 (ipykernel)",
   "language": "python",
   "name": "python3"
  },
  "language_info": {
   "codemirror_mode": {
    "name": "ipython",
    "version": 3
   },
   "file_extension": ".py",
   "mimetype": "text/x-python",
   "name": "python",
   "nbconvert_exporter": "python",
   "pygments_lexer": "ipython3",
   "version": "3.11.7"
  }
 },
 "nbformat": 4,
 "nbformat_minor": 5
}
