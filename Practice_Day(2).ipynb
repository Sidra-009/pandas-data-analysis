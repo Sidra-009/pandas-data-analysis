{
 "cells": [
  {
   "cell_type": "code",
   "execution_count": 1,
   "id": "f8a77812-9959-4c50-ab88-7c2cbe64e4a2",
   "metadata": {},
   "outputs": [],
   "source": [
    "import pandas as pd"
   ]
  },
  {
   "cell_type": "code",
   "execution_count": 12,
   "id": "94519b43-72fd-4f54-8a31-b9e5b910cc79",
   "metadata": {},
   "outputs": [
    {
     "data": {
      "text/html": [
       "<div>\n",
       "<style scoped>\n",
       "    .dataframe tbody tr th:only-of-type {\n",
       "        vertical-align: middle;\n",
       "    }\n",
       "\n",
       "    .dataframe tbody tr th {\n",
       "        vertical-align: top;\n",
       "    }\n",
       "\n",
       "    .dataframe thead th {\n",
       "        text-align: right;\n",
       "    }\n",
       "</style>\n",
       "<table border=\"1\" class=\"dataframe\">\n",
       "  <thead>\n",
       "    <tr style=\"text-align: right;\">\n",
       "      <th></th>\n",
       "      <th>Rank</th>\n",
       "      <th>Company Name</th>\n",
       "      <th>Number of Employees</th>\n",
       "      <th>Previous Rank</th>\n",
       "      <th>Revenues</th>\n",
       "      <th>Revenue Change</th>\n",
       "      <th>Profits</th>\n",
       "      <th>Profit Change</th>\n",
       "      <th>Assets</th>\n",
       "      <th>Market Value</th>\n",
       "    </tr>\n",
       "  </thead>\n",
       "  <tbody>\n",
       "    <tr>\n",
       "      <th>0</th>\n",
       "      <td>1</td>\n",
       "      <td>Walmart</td>\n",
       "      <td>23,00,000</td>\n",
       "      <td>1.0</td>\n",
       "      <td>$4,85,873</td>\n",
       "      <td>0.8%</td>\n",
       "      <td>$13,643.0</td>\n",
       "      <td>-7.2%</td>\n",
       "      <td>$1,98,825</td>\n",
       "      <td>$2,18,619</td>\n",
       "    </tr>\n",
       "    <tr>\n",
       "      <th>1</th>\n",
       "      <td>2</td>\n",
       "      <td>Berkshire Hathaway</td>\n",
       "      <td>3,67,700</td>\n",
       "      <td>4.0</td>\n",
       "      <td>$2,23,604</td>\n",
       "      <td>6.1%</td>\n",
       "      <td>$24,074.0</td>\n",
       "      <td>0.0%</td>\n",
       "      <td>$6,20,854</td>\n",
       "      <td>$4,11,035</td>\n",
       "    </tr>\n",
       "    <tr>\n",
       "      <th>2</th>\n",
       "      <td>3</td>\n",
       "      <td>Apple</td>\n",
       "      <td>1,16,000</td>\n",
       "      <td>3.0</td>\n",
       "      <td>$2,15,639</td>\n",
       "      <td>-7.7%</td>\n",
       "      <td>$45,687.0</td>\n",
       "      <td>-14.4%</td>\n",
       "      <td>$3,21,686</td>\n",
       "      <td>$7,53,718</td>\n",
       "    </tr>\n",
       "    <tr>\n",
       "      <th>3</th>\n",
       "      <td>4</td>\n",
       "      <td>Exxon Mobil</td>\n",
       "      <td>72,700</td>\n",
       "      <td>2.0</td>\n",
       "      <td>$2,05,004</td>\n",
       "      <td>-16.7%</td>\n",
       "      <td>$7,840.0</td>\n",
       "      <td>-51.5%</td>\n",
       "      <td>$3,30,314</td>\n",
       "      <td>$3,40,056</td>\n",
       "    </tr>\n",
       "    <tr>\n",
       "      <th>4</th>\n",
       "      <td>5</td>\n",
       "      <td>McKesson</td>\n",
       "      <td>68,000</td>\n",
       "      <td>5.0</td>\n",
       "      <td>$1,92,487</td>\n",
       "      <td>6.2%</td>\n",
       "      <td>$2,258.0</td>\n",
       "      <td>53.0%</td>\n",
       "      <td>$56,563</td>\n",
       "      <td>$31,439</td>\n",
       "    </tr>\n",
       "  </tbody>\n",
       "</table>\n",
       "</div>"
      ],
      "text/plain": [
       "   Rank        Company Name Number of Employees  Previous Rank   Revenues  \\\n",
       "0     1             Walmart           23,00,000            1.0  $4,85,873   \n",
       "1     2  Berkshire Hathaway            3,67,700            4.0  $2,23,604   \n",
       "2     3               Apple            1,16,000            3.0  $2,15,639   \n",
       "3     4         Exxon Mobil              72,700            2.0  $2,05,004   \n",
       "4     5            McKesson              68,000            5.0  $1,92,487   \n",
       "\n",
       "  Revenue Change    Profits Profit Change     Assets Market Value  \n",
       "0           0.8%  $13,643.0         -7.2%  $1,98,825    $2,18,619  \n",
       "1           6.1%  $24,074.0          0.0%  $6,20,854    $4,11,035  \n",
       "2          -7.7%  $45,687.0        -14.4%  $3,21,686    $7,53,718  \n",
       "3         -16.7%   $7,840.0        -51.5%  $3,30,314    $3,40,056  \n",
       "4           6.2%   $2,258.0         53.0%    $56,563      $31,439  "
      ]
     },
     "execution_count": 12,
     "metadata": {},
     "output_type": "execute_result"
    }
   ],
   "source": [
    "company=pd.read_csv('Fortune 500 Companies US.csv',encoding_errors='ignore')\n",
    "company.head()"
   ]
  },
  {
   "cell_type": "code",
   "execution_count": 13,
   "id": "86fda0d7-6340-4dd5-ba7f-dafced6fbdfc",
   "metadata": {},
   "outputs": [
    {
     "data": {
      "text/plain": [
       "(500, 10)"
      ]
     },
     "execution_count": 13,
     "metadata": {},
     "output_type": "execute_result"
    }
   ],
   "source": [
    "company.shape"
   ]
  },
  {
   "cell_type": "code",
   "execution_count": 16,
   "id": "125ab4a1-9774-497a-9383-e811c36a622b",
   "metadata": {},
   "outputs": [
    {
     "name": "stdout",
     "output_type": "stream",
     "text": [
      "<class 'pandas.core.frame.DataFrame'>\n",
      "RangeIndex: 500 entries, 0 to 499\n",
      "Data columns (total 10 columns):\n",
      " #   Column               Non-Null Count  Dtype  \n",
      "---  ------               --------------  -----  \n",
      " 0   Rank                 500 non-null    int64  \n",
      " 1   Company Name         500 non-null    object \n",
      " 2   Number of Employees  500 non-null    object \n",
      " 3   Previous Rank        492 non-null    float64\n",
      " 4   Revenues             500 non-null    object \n",
      " 5   Revenue Change       500 non-null    object \n",
      " 6   Profits              500 non-null    object \n",
      " 7   Profit Change        500 non-null    object \n",
      " 8   Assets               500 non-null    object \n",
      " 9   Market Value         500 non-null    object \n",
      "dtypes: float64(1), int64(1), object(8)\n",
      "memory usage: 39.2+ KB\n"
     ]
    }
   ],
   "source": [
    "company.info()"
   ]
  },
  {
   "cell_type": "code",
   "execution_count": 17,
   "id": "9d1d231b-4b70-45a0-b2f7-027e3af33519",
   "metadata": {},
   "outputs": [],
   "source": [
    "#group by(creating groups in existing data)"
   ]
  },
  {
   "cell_type": "code",
   "execution_count": 20,
   "id": "057390a4-983c-4459-9727-e331df443392",
   "metadata": {},
   "outputs": [
    {
     "data": {
      "text/plain": [
       "<pandas.core.groupby.generic.DataFrameGroupBy object at 0x0000026DE1BDA7D0>"
      ]
     },
     "execution_count": 20,
     "metadata": {},
     "output_type": "execute_result"
    }
   ],
   "source": [
    "companies=company.groupby('Number of Employees')\n",
    "companies"
   ]
  },
  {
   "cell_type": "code",
   "execution_count": 21,
   "id": "08bd8b15-430f-4c4c-a8f4-12e54231ab82",
   "metadata": {},
   "outputs": [
    {
     "data": {
      "text/plain": [
       "500"
      ]
     },
     "execution_count": 21,
     "metadata": {},
     "output_type": "execute_result"
    }
   ],
   "source": [
    "len(company)"
   ]
  },
  {
   "cell_type": "code",
   "execution_count": 27,
   "id": "ba8b7843-b37d-4880-b9af-b3951b787905",
   "metadata": {},
   "outputs": [],
   "source": [
    "company_name=company.groupby('Company Name')"
   ]
  },
  {
   "cell_type": "code",
   "execution_count": 28,
   "id": "77e75beb-b0a8-4b3d-9944-83f8b32f9112",
   "metadata": {},
   "outputs": [
    {
     "data": {
      "text/plain": [
       "Company Name\n",
       "3M                        1\n",
       "A-Mark Precious Metals    1\n",
       "ABM Industries            1\n",
       "ADP                       1\n",
       "AECOM                     1\n",
       "                         ..\n",
       "Yum China Holdings        1\n",
       "Zimmer Biomet Holdings    1\n",
       "eBay                      1\n",
       "iHeartMedia               1\n",
       "salesforce.com            1\n",
       "Length: 497, dtype: int64"
      ]
     },
     "execution_count": 28,
     "metadata": {},
     "output_type": "execute_result"
    }
   ],
   "source": [
    "company_name.size().sort_values(ascending=False)"
   ]
  },
  {
   "cell_type": "code",
   "execution_count": 30,
   "id": "4564634f-eb5e-4971-bf77-ecfa0afc33b4",
   "metadata": {},
   "outputs": [
    {
     "data": {
      "text/html": [
       "<div>\n",
       "<style scoped>\n",
       "    .dataframe tbody tr th:only-of-type {\n",
       "        vertical-align: middle;\n",
       "    }\n",
       "\n",
       "    .dataframe tbody tr th {\n",
       "        vertical-align: top;\n",
       "    }\n",
       "\n",
       "    .dataframe thead th {\n",
       "        text-align: right;\n",
       "    }\n",
       "</style>\n",
       "<table border=\"1\" class=\"dataframe\">\n",
       "  <thead>\n",
       "    <tr style=\"text-align: right;\">\n",
       "      <th></th>\n",
       "      <th>Rank</th>\n",
       "      <th>Number of Employees</th>\n",
       "      <th>Previous Rank</th>\n",
       "      <th>Revenues</th>\n",
       "      <th>Revenue Change</th>\n",
       "      <th>Profits</th>\n",
       "      <th>Profit Change</th>\n",
       "      <th>Assets</th>\n",
       "      <th>Market Value</th>\n",
       "    </tr>\n",
       "    <tr>\n",
       "      <th>Company Name</th>\n",
       "      <th></th>\n",
       "      <th></th>\n",
       "      <th></th>\n",
       "      <th></th>\n",
       "      <th></th>\n",
       "      <th></th>\n",
       "      <th></th>\n",
       "      <th></th>\n",
       "      <th></th>\n",
       "    </tr>\n",
       "  </thead>\n",
       "  <tbody>\n",
       "    <tr>\n",
       "      <th>3M</th>\n",
       "      <td>94</td>\n",
       "      <td>91,584</td>\n",
       "      <td>93.0</td>\n",
       "      <td>$30,109</td>\n",
       "      <td>-0.5%</td>\n",
       "      <td>$5,050.0</td>\n",
       "      <td>4.5%</td>\n",
       "      <td>$32,906</td>\n",
       "      <td>$1,14,338</td>\n",
       "    </tr>\n",
       "    <tr>\n",
       "      <th>A-Mark Precious Metals</th>\n",
       "      <td>395</td>\n",
       "      <td>83,000</td>\n",
       "      <td>426.0</td>\n",
       "      <td>$6,784</td>\n",
       "      <td>11.8%</td>\n",
       "      <td>$9.3</td>\n",
       "      <td>31.5%</td>\n",
       "      <td>$437</td>\n",
       "      <td>$120</td>\n",
       "    </tr>\n",
       "    <tr>\n",
       "      <th>ABM Industries</th>\n",
       "      <td>500</td>\n",
       "      <td>1,10,000</td>\n",
       "      <td>485.0</td>\n",
       "      <td>$5,145</td>\n",
       "      <td>-2.8%</td>\n",
       "      <td>$57.2</td>\n",
       "      <td>-25.0%</td>\n",
       "      <td>$2,281</td>\n",
       "      <td>$2,428</td>\n",
       "    </tr>\n",
       "    <tr>\n",
       "      <th>ADP</th>\n",
       "      <td>240</td>\n",
       "      <td>57,000</td>\n",
       "      <td>248.0</td>\n",
       "      <td>$11,668</td>\n",
       "      <td>1.7%</td>\n",
       "      <td>$1,492.5</td>\n",
       "      <td>2.8%</td>\n",
       "      <td>$43,670</td>\n",
       "      <td>$45,963</td>\n",
       "    </tr>\n",
       "    <tr>\n",
       "      <th>AECOM</th>\n",
       "      <td>161</td>\n",
       "      <td>87,000</td>\n",
       "      <td>156.0</td>\n",
       "      <td>$17,411</td>\n",
       "      <td>-3.2%</td>\n",
       "      <td>$96.1</td>\n",
       "      <td>-</td>\n",
       "      <td>$13,727</td>\n",
       "      <td>$5,528</td>\n",
       "    </tr>\n",
       "    <tr>\n",
       "      <th>...</th>\n",
       "      <td>...</td>\n",
       "      <td>...</td>\n",
       "      <td>...</td>\n",
       "      <td>...</td>\n",
       "      <td>...</td>\n",
       "      <td>...</td>\n",
       "      <td>...</td>\n",
       "      <td>...</td>\n",
       "      <td>...</td>\n",
       "    </tr>\n",
       "    <tr>\n",
       "      <th>Yum China Holdings</th>\n",
       "      <td>399</td>\n",
       "      <td>4,20,000</td>\n",
       "      <td>NaN</td>\n",
       "      <td>$6,752</td>\n",
       "      <td>-</td>\n",
       "      <td>$502.0</td>\n",
       "      <td>-</td>\n",
       "      <td>$3,727</td>\n",
       "      <td>$10,453</td>\n",
       "    </tr>\n",
       "    <tr>\n",
       "      <th>Zimmer Biomet Holdings</th>\n",
       "      <td>352</td>\n",
       "      <td>18,500</td>\n",
       "      <td>431.0</td>\n",
       "      <td>$7,684</td>\n",
       "      <td>28.1%</td>\n",
       "      <td>$305.9</td>\n",
       "      <td>108.1%</td>\n",
       "      <td>$26,684</td>\n",
       "      <td>$24,571</td>\n",
       "    </tr>\n",
       "    <tr>\n",
       "      <th>eBay</th>\n",
       "      <td>310</td>\n",
       "      <td>12,600</td>\n",
       "      <td>300.0</td>\n",
       "      <td>$8,979</td>\n",
       "      <td>-5.4%</td>\n",
       "      <td>$7,266.0</td>\n",
       "      <td>321.2%</td>\n",
       "      <td>$23,847</td>\n",
       "      <td>$36,232</td>\n",
       "    </tr>\n",
       "    <tr>\n",
       "      <th>iHeartMedia</th>\n",
       "      <td>426</td>\n",
       "      <td>18,700</td>\n",
       "      <td>414.0</td>\n",
       "      <td>$6,274</td>\n",
       "      <td>0.5%</td>\n",
       "      <td>-$296.3</td>\n",
       "      <td>-</td>\n",
       "      <td>$12,862</td>\n",
       "      <td>$330</td>\n",
       "    </tr>\n",
       "    <tr>\n",
       "      <th>salesforce.com</th>\n",
       "      <td>326</td>\n",
       "      <td>25,000</td>\n",
       "      <td>386.0</td>\n",
       "      <td>$8,392</td>\n",
       "      <td>25.9%</td>\n",
       "      <td>$179.6</td>\n",
       "      <td>-</td>\n",
       "      <td>$17,585</td>\n",
       "      <td>$58,362</td>\n",
       "    </tr>\n",
       "  </tbody>\n",
       "</table>\n",
       "<p>497 rows × 9 columns</p>\n",
       "</div>"
      ],
      "text/plain": [
       "                        Rank Number of Employees  Previous Rank Revenues  \\\n",
       "Company Name                                                               \n",
       "3M                        94              91,584           93.0  $30,109   \n",
       "A-Mark Precious Metals   395              83,000          426.0   $6,784   \n",
       "ABM Industries           500            1,10,000          485.0   $5,145   \n",
       "ADP                      240              57,000          248.0  $11,668   \n",
       "AECOM                    161              87,000          156.0  $17,411   \n",
       "...                      ...                 ...            ...      ...   \n",
       "Yum China Holdings       399            4,20,000            NaN   $6,752   \n",
       "Zimmer Biomet Holdings   352              18,500          431.0   $7,684   \n",
       "eBay                     310              12,600          300.0   $8,979   \n",
       "iHeartMedia              426              18,700          414.0   $6,274   \n",
       "salesforce.com           326              25,000          386.0   $8,392   \n",
       "\n",
       "                       Revenue Change   Profits Profit Change   Assets  \\\n",
       "Company Name                                                             \n",
       "3M                              -0.5%  $5,050.0          4.5%  $32,906   \n",
       "A-Mark Precious Metals          11.8%      $9.3         31.5%     $437   \n",
       "ABM Industries                  -2.8%     $57.2        -25.0%   $2,281   \n",
       "ADP                              1.7%  $1,492.5          2.8%  $43,670   \n",
       "AECOM                           -3.2%     $96.1             -  $13,727   \n",
       "...                               ...       ...           ...      ...   \n",
       "Yum China Holdings                  -    $502.0             -   $3,727   \n",
       "Zimmer Biomet Holdings          28.1%    $305.9        108.1%  $26,684   \n",
       "eBay                            -5.4%  $7,266.0        321.2%  $23,847   \n",
       "iHeartMedia                      0.5%   -$296.3             -  $12,862   \n",
       "salesforce.com                  25.9%    $179.6             -  $17,585   \n",
       "\n",
       "                       Market Value  \n",
       "Company Name                         \n",
       "3M                        $1,14,338  \n",
       "A-Mark Precious Metals         $120  \n",
       "ABM Industries               $2,428  \n",
       "ADP                         $45,963  \n",
       "AECOM                        $5,528  \n",
       "...                             ...  \n",
       "Yum China Holdings          $10,453  \n",
       "Zimmer Biomet Holdings      $24,571  \n",
       "eBay                        $36,232  \n",
       "iHeartMedia                    $330  \n",
       "salesforce.com              $58,362  \n",
       "\n",
       "[497 rows x 9 columns]"
      ]
     },
     "execution_count": 30,
     "metadata": {},
     "output_type": "execute_result"
    }
   ],
   "source": [
    "#occurs at first position\n",
    "company_name.first()"
   ]
  },
  {
   "cell_type": "code",
   "execution_count": 31,
   "id": "9bacb346-8ac1-4b4e-9cc7-64904c29a3da",
   "metadata": {},
   "outputs": [
    {
     "data": {
      "text/html": [
       "<div>\n",
       "<style scoped>\n",
       "    .dataframe tbody tr th:only-of-type {\n",
       "        vertical-align: middle;\n",
       "    }\n",
       "\n",
       "    .dataframe tbody tr th {\n",
       "        vertical-align: top;\n",
       "    }\n",
       "\n",
       "    .dataframe thead th {\n",
       "        text-align: right;\n",
       "    }\n",
       "</style>\n",
       "<table border=\"1\" class=\"dataframe\">\n",
       "  <thead>\n",
       "    <tr style=\"text-align: right;\">\n",
       "      <th></th>\n",
       "      <th>Rank</th>\n",
       "      <th>Number of Employees</th>\n",
       "      <th>Previous Rank</th>\n",
       "      <th>Revenues</th>\n",
       "      <th>Revenue Change</th>\n",
       "      <th>Profits</th>\n",
       "      <th>Profit Change</th>\n",
       "      <th>Assets</th>\n",
       "      <th>Market Value</th>\n",
       "    </tr>\n",
       "    <tr>\n",
       "      <th>Company Name</th>\n",
       "      <th></th>\n",
       "      <th></th>\n",
       "      <th></th>\n",
       "      <th></th>\n",
       "      <th></th>\n",
       "      <th></th>\n",
       "      <th></th>\n",
       "      <th></th>\n",
       "      <th></th>\n",
       "    </tr>\n",
       "  </thead>\n",
       "  <tbody>\n",
       "    <tr>\n",
       "      <th>3M</th>\n",
       "      <td>94</td>\n",
       "      <td>91,584</td>\n",
       "      <td>93.0</td>\n",
       "      <td>$30,109</td>\n",
       "      <td>-0.5%</td>\n",
       "      <td>$5,050.0</td>\n",
       "      <td>4.5%</td>\n",
       "      <td>$32,906</td>\n",
       "      <td>$1,14,338</td>\n",
       "    </tr>\n",
       "    <tr>\n",
       "      <th>A-Mark Precious Metals</th>\n",
       "      <td>395</td>\n",
       "      <td>83,000</td>\n",
       "      <td>426.0</td>\n",
       "      <td>$6,784</td>\n",
       "      <td>11.8%</td>\n",
       "      <td>$9.3</td>\n",
       "      <td>31.5%</td>\n",
       "      <td>$437</td>\n",
       "      <td>$120</td>\n",
       "    </tr>\n",
       "    <tr>\n",
       "      <th>ABM Industries</th>\n",
       "      <td>500</td>\n",
       "      <td>1,10,000</td>\n",
       "      <td>485.0</td>\n",
       "      <td>$5,145</td>\n",
       "      <td>-2.8%</td>\n",
       "      <td>$57.2</td>\n",
       "      <td>-25.0%</td>\n",
       "      <td>$2,281</td>\n",
       "      <td>$2,428</td>\n",
       "    </tr>\n",
       "    <tr>\n",
       "      <th>ADP</th>\n",
       "      <td>240</td>\n",
       "      <td>57,000</td>\n",
       "      <td>248.0</td>\n",
       "      <td>$11,668</td>\n",
       "      <td>1.7%</td>\n",
       "      <td>$1,492.5</td>\n",
       "      <td>2.8%</td>\n",
       "      <td>$43,670</td>\n",
       "      <td>$45,963</td>\n",
       "    </tr>\n",
       "    <tr>\n",
       "      <th>AECOM</th>\n",
       "      <td>161</td>\n",
       "      <td>87,000</td>\n",
       "      <td>156.0</td>\n",
       "      <td>$17,411</td>\n",
       "      <td>-3.2%</td>\n",
       "      <td>$96.1</td>\n",
       "      <td>-</td>\n",
       "      <td>$13,727</td>\n",
       "      <td>$5,528</td>\n",
       "    </tr>\n",
       "    <tr>\n",
       "      <th>...</th>\n",
       "      <td>...</td>\n",
       "      <td>...</td>\n",
       "      <td>...</td>\n",
       "      <td>...</td>\n",
       "      <td>...</td>\n",
       "      <td>...</td>\n",
       "      <td>...</td>\n",
       "      <td>...</td>\n",
       "      <td>...</td>\n",
       "    </tr>\n",
       "    <tr>\n",
       "      <th>Yum China Holdings</th>\n",
       "      <td>399</td>\n",
       "      <td>4,20,000</td>\n",
       "      <td>NaN</td>\n",
       "      <td>$6,752</td>\n",
       "      <td>-</td>\n",
       "      <td>$502.0</td>\n",
       "      <td>-</td>\n",
       "      <td>$3,727</td>\n",
       "      <td>$10,453</td>\n",
       "    </tr>\n",
       "    <tr>\n",
       "      <th>Zimmer Biomet Holdings</th>\n",
       "      <td>352</td>\n",
       "      <td>18,500</td>\n",
       "      <td>431.0</td>\n",
       "      <td>$7,684</td>\n",
       "      <td>28.1%</td>\n",
       "      <td>$305.9</td>\n",
       "      <td>108.1%</td>\n",
       "      <td>$26,684</td>\n",
       "      <td>$24,571</td>\n",
       "    </tr>\n",
       "    <tr>\n",
       "      <th>eBay</th>\n",
       "      <td>310</td>\n",
       "      <td>12,600</td>\n",
       "      <td>300.0</td>\n",
       "      <td>$8,979</td>\n",
       "      <td>-5.4%</td>\n",
       "      <td>$7,266.0</td>\n",
       "      <td>321.2%</td>\n",
       "      <td>$23,847</td>\n",
       "      <td>$36,232</td>\n",
       "    </tr>\n",
       "    <tr>\n",
       "      <th>iHeartMedia</th>\n",
       "      <td>426</td>\n",
       "      <td>18,700</td>\n",
       "      <td>414.0</td>\n",
       "      <td>$6,274</td>\n",
       "      <td>0.5%</td>\n",
       "      <td>-$296.3</td>\n",
       "      <td>-</td>\n",
       "      <td>$12,862</td>\n",
       "      <td>$330</td>\n",
       "    </tr>\n",
       "    <tr>\n",
       "      <th>salesforce.com</th>\n",
       "      <td>326</td>\n",
       "      <td>25,000</td>\n",
       "      <td>386.0</td>\n",
       "      <td>$8,392</td>\n",
       "      <td>25.9%</td>\n",
       "      <td>$179.6</td>\n",
       "      <td>-</td>\n",
       "      <td>$17,585</td>\n",
       "      <td>$58,362</td>\n",
       "    </tr>\n",
       "  </tbody>\n",
       "</table>\n",
       "<p>497 rows × 9 columns</p>\n",
       "</div>"
      ],
      "text/plain": [
       "                        Rank Number of Employees  Previous Rank Revenues  \\\n",
       "Company Name                                                               \n",
       "3M                        94              91,584           93.0  $30,109   \n",
       "A-Mark Precious Metals   395              83,000          426.0   $6,784   \n",
       "ABM Industries           500            1,10,000          485.0   $5,145   \n",
       "ADP                      240              57,000          248.0  $11,668   \n",
       "AECOM                    161              87,000          156.0  $17,411   \n",
       "...                      ...                 ...            ...      ...   \n",
       "Yum China Holdings       399            4,20,000            NaN   $6,752   \n",
       "Zimmer Biomet Holdings   352              18,500          431.0   $7,684   \n",
       "eBay                     310              12,600          300.0   $8,979   \n",
       "iHeartMedia              426              18,700          414.0   $6,274   \n",
       "salesforce.com           326              25,000          386.0   $8,392   \n",
       "\n",
       "                       Revenue Change   Profits Profit Change   Assets  \\\n",
       "Company Name                                                             \n",
       "3M                              -0.5%  $5,050.0          4.5%  $32,906   \n",
       "A-Mark Precious Metals          11.8%      $9.3         31.5%     $437   \n",
       "ABM Industries                  -2.8%     $57.2        -25.0%   $2,281   \n",
       "ADP                              1.7%  $1,492.5          2.8%  $43,670   \n",
       "AECOM                           -3.2%     $96.1             -  $13,727   \n",
       "...                               ...       ...           ...      ...   \n",
       "Yum China Holdings                  -    $502.0             -   $3,727   \n",
       "Zimmer Biomet Holdings          28.1%    $305.9        108.1%  $26,684   \n",
       "eBay                            -5.4%  $7,266.0        321.2%  $23,847   \n",
       "iHeartMedia                      0.5%   -$296.3             -  $12,862   \n",
       "salesforce.com                  25.9%    $179.6             -  $17,585   \n",
       "\n",
       "                       Market Value  \n",
       "Company Name                         \n",
       "3M                        $1,14,338  \n",
       "A-Mark Precious Metals         $120  \n",
       "ABM Industries               $2,428  \n",
       "ADP                         $45,963  \n",
       "AECOM                        $5,528  \n",
       "...                             ...  \n",
       "Yum China Holdings          $10,453  \n",
       "Zimmer Biomet Holdings      $24,571  \n",
       "eBay                        $36,232  \n",
       "iHeartMedia                    $330  \n",
       "salesforce.com              $58,362  \n",
       "\n",
       "[497 rows x 9 columns]"
      ]
     },
     "execution_count": 31,
     "metadata": {},
     "output_type": "execute_result"
    }
   ],
   "source": [
    "company_name.last()"
   ]
  },
  {
   "cell_type": "code",
   "execution_count": 33,
   "id": "a6c78f03-52e2-412d-8dfc-3e8120582607",
   "metadata": {},
   "outputs": [
    {
     "data": {
      "text/plain": [
       "{'3M': [93], 'A-Mark Precious Metals': [394], 'ABM Industries': [499], 'ADP': [239], 'AECOM': [160], 'AES': [193], 'AGCO': [369], 'AIG': [54], 'AK Steel Holding': [440], 'AT&T': [8], 'AbbVie': [110], 'Abbott Laboratories': [134], 'Activision Blizzard': [405], 'Adobe Systems': [442], 'Advance Auto Parts': [291], 'Aetna': [42], 'Aflac': [125], 'Air Products & Chemicals': [293], 'Airgas': [488], 'Alaska Air Group': [437], 'Albertsons Cos.': [48], 'Alcoa': [227, 299], 'Alleghany': [427], 'Alliance Data Systems': [377], 'Allstate': [83], 'Ally Financial': [285], 'Alphabet': [26], 'Altria Group': [147], 'AmTrust Financial Services': [474], 'Amazon.com': [11], 'Ameren': [430], 'American Airlines Group': [66], 'American Electric Power': [166], 'American Express': [85], 'American Family Insurance Group': [314], 'American Financial Group': [410], 'American Tower': [448], 'Ameriprise Financial': [238], 'AmerisourceBergen': [10], 'Amgen': [122], 'Amphenol': [423], 'Anadarko Petroleum': [343], 'Anixter International': [358], 'Anthem': [28], 'Apache': [487], 'Apple': [2], 'Applied Materials': [264], 'Aramark': [191], 'Archer Daniels Midland': [44], 'Arrow Electronics': [117], 'Arthur J. Gallagher': [461], 'Asbury Automotive Group': [409], 'Ascena Retail Group': [383], 'Assurant': [360], 'Auto-Owners Insurance': [397], 'AutoNation': [128], 'AutoZone': [269], 'Autoliv': [282], 'Avery Dennison': [429], 'Avis Budget Group': [318], 'Avnet': [107, 108], 'Avon Products': [443], 'BB&T Corp.': [244], 'Baker Hughes': [284], 'Ball': [305], 'Bank of America Corp.': [25], 'Bank of New York Mellon Corp.': [176], 'Baxter International': [280], 'Becton Dickinson': [224], 'Bed Bath & Beyond': [232], 'Berkshire Hathaway': [1], 'Berry Global Group': [412], 'Best Buy': [71], 'Big Lots': [494], 'Biogen': [247], 'BlackRock': [254], 'Boeing': [23], 'Booz Allen Hamilton Holding': [480], 'BorgWarner': [304], 'Boston Scientific': [326], 'Bristol-Myers Squibb': [146], 'Builders FirstSource': [420], 'Burlington Stores': [462], 'C.H. Robinson Worldwide': [211], 'CBRE Group': [213], 'CBS': [192], 'CDW': [198], 'CH2M Hill': [493], 'CHS': [92], 'CMS Energy': [418], 'CST Brands': [306], 'CSX': [256], 'CVS Health': [6], 'CalAtlantic Group': [414], 'Calpine': [399], 'Campbell Soup': [338], 'Capital One Financial': [99], 'CarMax': [173], 'Cardinal Health': [14], 'Caseys General Stores': [422], ...}"
      ]
     },
     "execution_count": 33,
     "metadata": {},
     "output_type": "execute_result"
    }
   ],
   "source": [
    "# returns dict\n",
    "company_name.groups"
   ]
  },
  {
   "cell_type": "code",
   "execution_count": 38,
   "id": "0985e808-0c04-4646-9b35-422b21b9b22d",
   "metadata": {},
   "outputs": [
    {
     "data": {
      "text/plain": [
       "Rank                          24\n",
       "Company Name              Boeing\n",
       "Number of Employees     1,50,540\n",
       "Previous Rank               24.0\n",
       "Revenues                 $94,571\n",
       "Revenue Change             -1.6%\n",
       "Profits                 $4,895.0\n",
       "Profit Change              -5.4%\n",
       "Assets                   $89,997\n",
       "Market Value           $1,07,546\n",
       "Name: 23, dtype: object"
      ]
     },
     "execution_count": 38,
     "metadata": {},
     "output_type": "execute_result"
    }
   ],
   "source": [
    "company.iloc[23,:]"
   ]
  },
  {
   "cell_type": "code",
   "execution_count": 41,
   "id": "94250e13-f954-4a5f-86a2-6d8a56b2ceec",
   "metadata": {},
   "outputs": [
    {
     "data": {
      "text/plain": [
       "(1, 10)"
      ]
     },
     "execution_count": 41,
     "metadata": {},
     "output_type": "execute_result"
    }
   ],
   "source": [
    "company_name.get_group('Apple').shape"
   ]
  },
  {
   "cell_type": "code",
   "execution_count": 44,
   "id": "1aaef86c-ec80-404c-b039-37250ab9cba1",
   "metadata": {},
   "outputs": [
    {
     "data": {
      "text/plain": [
       "Rank                                                              125250\n",
       "Company Name           WalmartBerkshire HathawayAppleExxon MobilMcKes...\n",
       "Number of Employees    23,00,0003,67,7001,16,00072,70068,0002,30,0002...\n",
       "Previous Rank                                                   126499.0\n",
       "Revenues               $4,85,873$2,23,604$2,15,639$2,05,004$1,92,487$...\n",
       "Revenue Change         0.8%6.1%-7.7%-16.7%6.2%17.7%15.8%9.2%11.6%1.5%...\n",
       "Profits                $13,643.0$24,074.0$45,687.0$7,840.0$2,258.0$7,...\n",
       "Profit Change          -7.2%0.0%-14.4%-51.5%53.0%20.7%1.5%-2.7%-2.8%-...\n",
       "Assets                 $1,98,825$6,20,854$3,21,686$3,30,314$56,563$1,...\n",
       "Market Value           $2,18,619$4,11,035$7,53,718$3,40,056$31,439$1,...\n",
       "dtype: object"
      ]
     },
     "execution_count": 44,
     "metadata": {},
     "output_type": "execute_result"
    }
   ],
   "source": [
    "company.sum()"
   ]
  },
  {
   "cell_type": "code",
   "execution_count": 55,
   "id": "4680f5b6-e4bf-4455-8523-d69c50184b65",
   "metadata": {},
   "outputs": [
    {
     "data": {
      "text/plain": [
       "<pandas.core.groupby.generic.DataFrameGroupBy object at 0x0000026DEBB7C290>"
      ]
     },
     "execution_count": 55,
     "metadata": {},
     "output_type": "execute_result"
    }
   ],
   "source": [
    "rank=company.groupby('Previous Rank')\n",
    "rank\n",
    "# rank.mean()"
   ]
  },
  {
   "cell_type": "code",
   "execution_count": 61,
   "id": "b68021c7-ac0c-4606-a4de-32957c5c9146",
   "metadata": {},
   "outputs": [],
   "source": [
    "# company['Revenues'].mean()\n",
    "# sectors['Revenues'].mean().sort_values(ascending=False)"
   ]
  },
  {
   "cell_type": "code",
   "execution_count": null,
   "id": "a0e1ea10-133a-43b5-aab1-1b3b1fa665be",
   "metadata": {},
   "outputs": [],
   "source": []
  }
 ],
 "metadata": {
  "kernelspec": {
   "display_name": "Python 3 (ipykernel)",
   "language": "python",
   "name": "python3"
  },
  "language_info": {
   "codemirror_mode": {
    "name": "ipython",
    "version": 3
   },
   "file_extension": ".py",
   "mimetype": "text/x-python",
   "name": "python",
   "nbconvert_exporter": "python",
   "pygments_lexer": "ipython3",
   "version": "3.11.7"
  }
 },
 "nbformat": 4,
 "nbformat_minor": 5
}
